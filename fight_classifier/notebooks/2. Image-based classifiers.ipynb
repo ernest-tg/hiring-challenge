{
 "cells": [
  {
   "cell_type": "code",
   "execution_count": null,
   "id": "86a5e558",
   "metadata": {},
   "outputs": [],
   "source": [
    "%load_ext autoreload\n",
    "%autoreload 2"
   ]
  },
  {
   "cell_type": "code",
   "execution_count": null,
   "id": "27de9d18",
   "metadata": {},
   "outputs": [],
   "source": [
    "# Classify every image in fight/no-fight, take average\n",
    "## On imagenet logits\n",
    "## On imagenet features\n",
    "## With finetuning\n",
    "#"
   ]
  },
  {
   "cell_type": "code",
   "execution_count": null,
   "id": "080850b1",
   "metadata": {},
   "outputs": [],
   "source": [
    "from pathlib import Path\n",
    "import pandas as pd\n",
    "\n",
    "from fight_classifier import PROJECT_DIR, DATASET_DIR\n",
    "frames_dir = DATASET_DIR / 'raw_frames/'\n",
    "\n",
    "frames_df = pd.read_csv(str(frames_dir / 'frames.csv'))\n",
    "frames_df"
   ]
  },
  {
   "cell_type": "code",
   "execution_count": null,
   "id": "3791ed02",
   "metadata": {},
   "outputs": [],
   "source": [
    "from torchvision.models import mobilenet_v3_large, MobileNet_V3_Large_Weights\n",
    "from torchvision.models.feature_extraction import get_graph_node_names, create_feature_extractor\n",
    "\n",
    "base_model_weights = MobileNet_V3_Large_Weights.DEFAULT\n",
    "base_model = mobilenet_v3_large(weights=base_model_weights)\n",
    "base_model.eval()\n",
    "preprocess = base_model_weights.transforms()"
   ]
  },
  {
   "cell_type": "code",
   "execution_count": null,
   "id": "ddea7c42",
   "metadata": {},
   "outputs": [],
   "source": [
    "from fight_classifier.data.image_dataset import (\n",
    "    ImageDataset, ImageDataModule)\n",
    "from torch.utils.data import DataLoader, Dataset\n",
    "\n",
    "\n",
    "image_dataset = ImageDataset(\n",
    "    image_df=frames_df,\n",
    "    image_path_col='frame_path',\n",
    "    groundtruth_col='is_fight',\n",
    "    preprocess=preprocess)\n",
    "\n",
    "image_dataloader = DataLoader(image_dataset, shuffle=True, batch_size=10)\n",
    "image_data_module = ImageDataModule(\n",
    "    image_df=frames_df, batch_size=10, preprocess=preprocess, split_coherence_col='fine_category')"
   ]
  },
  {
   "cell_type": "code",
   "execution_count": null,
   "id": "74444774",
   "metadata": {},
   "outputs": [],
   "source": [
    "import pytorch_lightning as pl\n",
    "from fight_classifier.model.image_based_model import (\n",
    "    ProjFromFeatures, ImageClassifierModule)\n",
    "classifier = ProjFromFeatures()\n",
    "\n",
    "classif_module = ImageClassifierModule(classifier=classifier)\n",
    "\n",
    "trainer = pl.Trainer(\n",
    "    default_root_dir=str(PROJECT_DIR),\n",
    "    val_check_interval=500,\n",
    ")\n",
    "\n",
    "trainer.fit(\n",
    "    model=classif_module,\n",
    "    datamodule=image_data_module)"
   ]
  },
  {
   "cell_type": "code",
   "execution_count": null,
   "id": "fe5e6e1b",
   "metadata": {},
   "outputs": [],
   "source": [
    "import matplotlib.pyplot as plt\n",
    "import torch\n",
    "\n",
    "for i, example in enumerate(image_dataset):\n",
    "    if i >= 4000:\n",
    "        break\n",
    "    if i % 200 != 0:\n",
    "        continue\n",
    "    batch = preprocess(example['image']).unsqueeze(0)\n",
    "    print(example['image'].size, '-->', batch.shape)\n",
    "    # plt.Figure()\n",
    "    # plt.imshow(example['image'])\n",
    "    # plt.show()\n",
    "    \n",
    "    prediction = base_model(batch).squeeze(0).softmax(0)\n",
    "    class_id = prediction.argmax().item()\n",
    "    score = prediction[class_id].item()\n",
    "    category_name = base_model_weights.meta[\"categories\"][class_id]\n",
    "    print(f\"{category_name}: {100 * score:.1f}%\")"
   ]
  },
  {
   "cell_type": "code",
   "execution_count": null,
   "id": "11bb14ce",
   "metadata": {},
   "outputs": [],
   "source": [
    "from torchvision.models.feature_extraction import get_graph_node_names, create_feature_extractor\n",
    "\n",
    "nodes, _ = get_graph_node_names(base_model)\n",
    "print(nodes)\n",
    "\n",
    "\n",
    "# Confused about the node specification here?\n",
    "# We are allowed to provide truncated node names, and `create_feature_extractor`\n",
    "# will choose the last node with that prefix.\n",
    "feature_extractor = create_feature_extractor(\n",
    "    model, return_nodes=['features.16', 'flatten', 'classifier.0', 'classifier.1', 'classifier.2', 'classifier.3'])\n",
    "# `out` will be a dict of Tensors, each representing a feature map\n",
    "out = feature_extractor(torch.zeros(1, 3, 32, 32))"
   ]
  },
  {
   "cell_type": "code",
   "execution_count": null,
   "id": "859d7e0d",
   "metadata": {},
   "outputs": [],
   "source": [
    "frames_df"
   ]
  },
  {
   "cell_type": "code",
   "execution_count": null,
   "id": "258825cb",
   "metadata": {},
   "outputs": [],
   "source": [
    "from torch import Tensor"
   ]
  },
  {
   "cell_type": "code",
   "execution_count": null,
   "id": "44ccbd61",
   "metadata": {},
   "outputs": [],
   "source": [
    "from fight_classifier import PROJECT_DIR\n",
    "print(PROJECT_DIR)"
   ]
  },
  {
   "cell_type": "code",
   "execution_count": null,
   "id": "6addd217",
   "metadata": {},
   "outputs": [],
   "source": [
    "type(preprocess)"
   ]
  },
  {
   "cell_type": "code",
   "execution_count": null,
   "id": "b9e70d19",
   "metadata": {},
   "outputs": [],
   "source": []
  }
 ],
 "metadata": {
  "kernelspec": {
   "display_name": "aviva",
   "language": "python",
   "name": "aviva"
  },
  "language_info": {
   "codemirror_mode": {
    "name": "ipython",
    "version": 3
   },
   "file_extension": ".py",
   "mimetype": "text/x-python",
   "name": "python",
   "nbconvert_exporter": "python",
   "pygments_lexer": "ipython3",
   "version": "3.8.10"
  }
 },
 "nbformat": 4,
 "nbformat_minor": 5
}
