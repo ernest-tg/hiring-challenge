{
 "cells": [
  {
   "cell_type": "code",
   "execution_count": null,
   "id": "285bcf22",
   "metadata": {},
   "outputs": [],
   "source": [
    "import os\n",
    "from pathlib import Path\n",
    "\n",
    "dataset_root = Path('/home/matthieu/aviva/hiring-challenge/dataset/Peliculas')\n",
    "fight_dir = dataset_root / \"fights\"\n",
    "no_fight_dir = dataset_root / \"noFights\"\n",
    "\n",
    "fight_vids_names = os.listdir(fight_dir)\n",
    "no_fight_vids_names = os.listdir(no_fight_dir)\n",
    "\n",
    "fight_vids_paths = "
   ]
  },
  {
   "cell_type": "code",
   "execution_count": null,
   "id": "e9456bd9",
   "metadata": {},
   "outputs": [],
   "source": []
  }
 ],
 "metadata": {
  "kernelspec": {
   "display_name": "Python 3 (ipykernel)",
   "language": "python",
   "name": "python3"
  },
  "language_info": {
   "codemirror_mode": {
    "name": "ipython",
    "version": 3
   },
   "file_extension": ".py",
   "mimetype": "text/x-python",
   "name": "python",
   "nbconvert_exporter": "python",
   "pygments_lexer": "ipython3",
   "version": "3.10.6"
  }
 },
 "nbformat": 4,
 "nbformat_minor": 5
}
