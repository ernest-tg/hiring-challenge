{
 "cells": [
  {
   "cell_type": "markdown",
   "id": "f8b3bc73",
   "metadata": {},
   "source": [
    "## TODO\n",
    "* Make \"save_videos_dataset_as_frames\" a DVC pipeline\n",
    "* Extract patches from images\n",
    "* Run classifiers on those patches\n",
    "* Run mini-lstm on rgb-mean or something like that (should be enough to count the number of frames)\n",
    "* Do augmentation\n",
    "* Repeat the previous classifiers (they should fail)\n"
   ]
  },
  {
   "cell_type": "code",
   "execution_count": null,
   "id": "a72bcb54",
   "metadata": {},
   "outputs": [],
   "source": [
    "%load_ext autoreload\n",
    "%autoreload 2"
   ]
  },
  {
   "cell_type": "code",
   "execution_count": null,
   "id": "ff2c2305",
   "metadata": {},
   "outputs": [],
   "source": [
    "\n"
   ]
  },
  {
   "cell_type": "code",
   "execution_count": null,
   "id": "82e0a71e",
   "metadata": {},
   "outputs": [],
   "source": [
    "from pathlib import Path\n",
    "\n",
    "import pandas as pd\n",
    "\n",
    "from fight_classifier.data.video_to_images import (\n",
    "    save_videos_dataset_as_frames)\n",
    "\n",
    "project_root = Path(\"/home/matthieu/aviva/hiring-challenge\")\n",
    "frames_dir = project_root / 'dataset/raw_frames/'\n",
    "videos_dir = project_root / 'dataset/Peliculas/'\n",
    "\n",
    "videos_df = pd.read_csv(videos_dir / 'videos.csv')\n",
    "videos_df"
   ]
  },
  {
   "cell_type": "code",
   "execution_count": null,
   "id": "e379b0c5",
   "metadata": {},
   "outputs": [],
   "source": [
    "# Save the videos to images\n",
    "frames_df = save_videos_dataset_as_frames(\n",
    "    videos_df=videos_df, videos_dir=videos_dir, frames_dir=frames_dir\n",
    ")\n"
   ]
  },
  {
   "cell_type": "code",
   "execution_count": null,
   "id": "554ab1d0",
   "metadata": {},
   "outputs": [],
   "source": [
    "frames_df"
   ]
  },
  {
   "cell_type": "code",
   "execution_count": null,
   "id": "33c387f6",
   "metadata": {},
   "outputs": [],
   "source": []
  }
 ],
 "metadata": {
  "kernelspec": {
   "display_name": "aviva",
   "language": "python",
   "name": "aviva"
  },
  "language_info": {
   "codemirror_mode": {
    "name": "ipython",
    "version": 3
   },
   "file_extension": ".py",
   "mimetype": "text/x-python",
   "name": "python",
   "nbconvert_exporter": "python",
   "pygments_lexer": "ipython3",
   "version": "3.10.6"
  }
 },
 "nbformat": 4,
 "nbformat_minor": 5
}
