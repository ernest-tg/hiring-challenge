{
 "cells": [
  {
   "cell_type": "markdown",
   "id": "84973ed3",
   "metadata": {},
   "source": [
    "## TODO\n",
    "* Make \"save_videos_dataset_as_frames\" a DVC pipeline\n",
    "* Extract patches from images\n",
    "* Run classifiers on those patches\n",
    "* Run mini-lstm on rgb-mean or something like that (should be enough to count the number of frames)\n",
    "* Do augmentation\n",
    "* Repeat the previous classifiers (they should fail)\n"
   ]
  },
  {
   "cell_type": "code",
   "execution_count": null,
   "id": "bdfecbb6",
   "metadata": {},
   "outputs": [],
   "source": [
    "%load_ext autoreload\n",
    "%autoreload 2"
   ]
  },
  {
   "cell_type": "code",
   "execution_count": null,
   "id": "63f58b5d",
   "metadata": {},
   "outputs": [],
   "source": [
    "from pathlib import Path\n",
    "\n",
    "import pandas as pd\n",
    "\n",
    "from fight_classifier import DATASET_DIR, PROJECT_DIR\n",
    "from fight_classifier.data.video_to_images import (\n",
    "    save_videos_dataset_as_frames)\n",
    "\n",
    "frames_dir = DATASET_DIR / 'raw_frames/'\n",
    "videos_dir = DATASET_DIR / 'Peliculas/'\n",
    "\n",
    "videos_df = pd.read_csv(videos_dir / 'videos.csv')\n",
    "videos_df"
   ]
  },
  {
   "cell_type": "code",
   "execution_count": null,
   "id": "395073e3",
   "metadata": {},
   "outputs": [],
   "source": [
    "# Save the videos to images\n",
    "frames_df = save_videos_dataset_as_frames(\n",
    "    videos_df=videos_df,\n",
    "    videos_dir=videos_dir,\n",
    "    frames_dir=frames_dir\n",
    ")\n"
   ]
  },
  {
   "cell_type": "markdown",
   "id": "e3572134",
   "metadata": {},
   "source": [
    "## Evidence of clever-hans\n",
    "\n",
    "* TODO: stop using mobilenet normalization for this"
   ]
  },
  {
   "cell_type": "code",
   "execution_count": null,
   "id": "8d63a618",
   "metadata": {},
   "outputs": [],
   "source": [
    "import pytorch_lightning as pl\n",
    "from torchvision.models import mobilenet_v3_large, MobileNet_V3_Large_Weights\n",
    "\n",
    "from fight_classifier.data.image_dataset import ImageDataModule\n",
    "from fight_classifier.model.hans_model import SmallCnnImageClassifier\n",
    "from fight_classifier.model.image_based_model import ImageClassifierModule, ProjFromFeatures\n",
    "\n",
    "BATCH_SIZE = 40\n",
    "SPLIT_COHERENCE_COL = 'fine_category'\n",
    "\n",
    "frames_dir = DATASET_DIR / 'raw_frames/'\n",
    "frames_df = pd.read_csv(str(frames_dir / 'frames.csv'))\n",
    "\n",
    "\n",
    "base_model_weights = MobileNet_V3_Large_Weights.DEFAULT\n",
    "base_model = mobilenet_v3_large(weights=base_model_weights)\n",
    "base_model.eval()\n",
    "preprocess = base_model_weights.transforms()\n",
    "preprocess_kwargs = {\n",
    "    'resize_size': preprocess.resize_size[0],\n",
    "    'crop_size': preprocess.crop_size[0],\n",
    "    'mean': preprocess.mean,\n",
    "    'std': preprocess.std,\n",
    "}\n",
    "\n",
    "image_data_module = ImageDataModule(\n",
    "    image_df=frames_df,\n",
    "    batch_size=BATCH_SIZE,\n",
    "    preprocess_kwargs=preprocess_kwargs,\n",
    "    split_coherence_col=SPLIT_COHERENCE_COL)\n",
    "\n",
    "# classifier = SmallCnnImageClassifier(n_layers=2)\n",
    "classifier = ProjFromFeatures()\n",
    "\n",
    "classif_module = ImageClassifierModule(classifier=classifier)\n",
    "\n",
    "trainer = pl.Trainer(\n",
    "    default_root_dir=str(PROJECT_DIR),\n",
    "    limit_val_batches=300,\n",
    ")\n",
    "\n",
    "trainer.fit(\n",
    "    model=classif_module,\n",
    "    datamodule=image_data_module)"
   ]
  },
  {
   "cell_type": "code",
   "execution_count": null,
   "id": "c2f3a56a",
   "metadata": {},
   "outputs": [],
   "source": [
    "import albumentations as A\n",
    "import matplotlib.pyplot as plt\n",
    "import numpy as np\n",
    "from PIL import Image\n",
    "import torch\n",
    "\n",
    "from fight_classifier.visualization.patch_classification import viz_patch_heatmap\n",
    "from fight_classifier.visualization import imshow_chw\n",
    "\n",
    "idx = 0\n",
    "\n",
    "ds = image_data_module.train_dataset\n",
    "print(ds.resize_size, ds.crop_size)\n",
    "\n",
    "image_row = frames_df.iloc[idx]\n",
    "image_path = image_row[ds.image_path_col]\n",
    "image = Image.open(image_path)\n",
    "image_np = np.asarray(image)\n",
    "\n",
    "\n",
    "im1 = A.SmallestMaxSize(max_size=ds.resize_size)(image=image_np)['image']\n",
    "im2 = A.RandomCrop(height=ds.crop_size, width=ds.crop_size)(image=im1)['image']\n",
    "\n",
    "plt.Figure()\n",
    "plt.imshow(image_np)\n",
    "plt.show()\n",
    "\n",
    "plt.Figure()\n",
    "plt.imshow(im1)\n",
    "plt.show()\n",
    "\n",
    "plt.Figure()\n",
    "plt.imshow(im2)\n",
    "plt.show()\n"
   ]
  },
  {
   "cell_type": "code",
   "execution_count": null,
   "id": "a40a2358",
   "metadata": {},
   "outputs": [],
   "source": []
  },
  {
   "cell_type": "code",
   "execution_count": null,
   "id": "7b61fbcd",
   "metadata": {},
   "outputs": [],
   "source": []
  }
 ],
 "metadata": {
  "kernelspec": {
   "display_name": "aviva",
   "language": "python",
   "name": "aviva"
  },
  "language_info": {
   "codemirror_mode": {
    "name": "ipython",
    "version": 3
   },
   "file_extension": ".py",
   "mimetype": "text/x-python",
   "name": "python",
   "nbconvert_exporter": "python",
   "pygments_lexer": "ipython3",
   "version": "3.10.7"
  }
 },
 "nbformat": 4,
 "nbformat_minor": 5
}
