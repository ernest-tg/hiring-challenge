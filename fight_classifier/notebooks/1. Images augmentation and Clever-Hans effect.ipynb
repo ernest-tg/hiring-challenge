{
 "cells": [
  {
   "cell_type": "markdown",
   "id": "f8b3bc73",
   "metadata": {},
   "source": [
    "## TODO\n",
    "* Make \"save_videos_dataset_as_frames\" a DVC pipeline\n",
    "* Extract patches from images\n",
    "* Run classifiers on those patches\n",
    "* Run mini-lstm on rgb-mean or something like that (should be enough to count the number of frames)\n",
    "* Do augmentation\n",
    "* Repeat the previous classifiers (they should fail)\n"
   ]
  },
  {
   "cell_type": "code",
   "execution_count": null,
   "id": "a72bcb54",
   "metadata": {},
   "outputs": [],
   "source": [
    "%load_ext autoreload\n",
    "%autoreload 2"
   ]
  },
  {
   "cell_type": "code",
   "execution_count": null,
   "id": "ff2c2305",
   "metadata": {},
   "outputs": [],
   "source": [
    "\n"
   ]
  },
  {
   "cell_type": "code",
   "execution_count": null,
   "id": "82e0a71e",
   "metadata": {},
   "outputs": [],
   "source": [
    "from pathlib import Path\n",
    "\n",
    "import pandas as pd\n",
    "\n",
    "from fight_classifier import DATASET_DIR, PROJECT_DIR\n",
    "from fight_classifier.data.video_to_images import (\n",
    "    save_videos_dataset_as_frames)\n",
    "\n",
    "frames_dir = DATASET_DIR / 'raw_frames/'\n",
    "videos_dir = DATASET_DIR / 'Peliculas/'\n",
    "\n",
    "videos_df = pd.read_csv(videos_dir / 'videos.csv')\n",
    "videos_df"
   ]
  },
  {
   "cell_type": "code",
   "execution_count": null,
   "id": "e379b0c5",
   "metadata": {},
   "outputs": [],
   "source": [
    "# Save the videos to images\n",
    "frames_df = save_videos_dataset_as_frames(\n",
    "    videos_df=videos_df,\n",
    "    videos_dir=videos_dir,\n",
    "    frames_dir=frames_dir\n",
    ")\n"
   ]
  },
  {
   "cell_type": "markdown",
   "id": "99ed1a34",
   "metadata": {},
   "source": [
    "## Evidence of clever-hans\n",
    "\n",
    "* TODO: stop using mobilenet normalization for this"
   ]
  },
  {
   "cell_type": "code",
   "execution_count": null,
   "id": "eebadfd7",
   "metadata": {},
   "outputs": [],
   "source": [
    "import pytorch_lightning as pl\n",
    "from torchvision.models import mobilenet_v3_large, MobileNet_V3_Large_Weights\n",
    "\n",
    "from fight_classifier.data.image_dataset import ImageDataModule\n",
    "from fight_classifier.model.hans_model import SmallCnnImageClassifier\n",
    "from fight_classifier.model.image_based_model import ImageClassifierModule\n",
    "\n",
    "BATCH_SIZE = 10\n",
    "SPLIT_COHERENCE_COL = 'fine_category'\n",
    "\n",
    "frames_dir = DATASET_DIR / 'raw_frames/'\n",
    "frames_df = pd.read_csv(str(frames_dir / 'frames.csv'))\n",
    "\n",
    "\n",
    "base_model_weights = MobileNet_V3_Large_Weights.DEFAULT\n",
    "base_model = mobilenet_v3_large(weights=base_model_weights)\n",
    "base_model.eval()\n",
    "preprocess = base_model_weights.transforms()\n",
    "preprocess_kwargs = {\n",
    "    'resize_size': preprocess.resize_size[0],\n",
    "    'crop_size': preprocess.crop_size[0],\n",
    "    'mean': preprocess.mean,\n",
    "    'std': preprocess.std,\n",
    "}\n",
    "\n",
    "image_data_module = ImageDataModule(\n",
    "    image_df=frames_df,\n",
    "    batch_size=BATCH_SIZE,\n",
    "    preprocess_kwargs=preprocess_kwargs,\n",
    "    split_coherence_col=SPLIT_COHERENCE_COL)\n",
    "\n",
    "classifier = SmallCnnImageClassifier(n_layers=1)\n",
    "\n",
    "classif_module = ImageClassifierModule(classifier=classifier)\n",
    "\n",
    "trainer = pl.Trainer(\n",
    "    default_root_dir=str(PROJECT_DIR),\n",
    "    val_check_interval=500,\n",
    "    limit_val_batches=300,\n",
    ")\n",
    "\n",
    "trainer.fit(\n",
    "    model=classif_module,\n",
    "    datamodule=image_data_module)"
   ]
  },
  {
   "cell_type": "code",
   "execution_count": null,
   "id": "23bfa2f6",
   "metadata": {},
   "outputs": [],
   "source": [
    "import matplotlib.pyplot as plt\n",
    "\n",
    "trained_weights = classif_module.classifier.state_dict()\n",
    "weight1 = trained_weights['lay1.weight']\n",
    "\n",
    "plt.Figure()\n",
    "plt.imshow(weight1[0])\n",
    "plt.show()\n",
    "\n",
    "plt.Figure()\n",
    "plt.imshow(weight1[1])\n",
    "plt.show()"
   ]
  },
  {
   "cell_type": "code",
   "execution_count": null,
   "id": "ee9d7d04",
   "metadata": {},
   "outputs": [],
   "source": [
    "import seaborn as sns\n",
    "\n",
    "\n",
    "palette = sns.color_palette(\"vlag\", as_cmap=True)"
   ]
  },
  {
   "cell_type": "code",
   "execution_count": null,
   "id": "fe367680",
   "metadata": {},
   "outputs": [],
   "source": [
    "import torch\n",
    "classifier.eval()\n",
    "\n",
    "for img, groundtruth in image_data_module.train_dataset:\n",
    "    print(img.shape)\n",
    "    rescaled_img = img - torch.amin(img, dim=(1,2), keepdim=True)\n",
    "    rescaled_img = rescaled_img / torch.amax(rescaled_img, dim=(1,2), keepdim=True)\n",
    "    print(rescaled_img.min(), rescaled_img.max())\n",
    "    plt.Figure()\n",
    "    plt.imshow(torch.permute(rescaled_img, (1,2,0)))\n",
    "    plt.show()\n",
    "    break"
   ]
  },
  {
   "cell_type": "code",
   "execution_count": null,
   "id": "9e6aa9ee",
   "metadata": {},
   "outputs": [],
   "source": [
    "dir(preprocess)"
   ]
  },
  {
   "cell_type": "code",
   "execution_count": null,
   "id": "057c67bf",
   "metadata": {},
   "outputs": [],
   "source": [
    "preprocess.resize_size"
   ]
  },
  {
   "cell_type": "code",
   "execution_count": null,
   "id": "639d0afa",
   "metadata": {},
   "outputs": [],
   "source": [
    "import numpy as np\n",
    "from PIL import Image\n",
    "\n",
    "a = np.zeros((232, 232, 3), dtype=np.uint8)\n",
    "a[3:-3, 3:-3] = 255\n",
    "processed_a = preprocess(Image.fromarray(a))\n",
    "\n",
    "renormalized_a = a * [0.229, 0.224, 0.225] + [0.485, 0.456, 0.406]\n",
    "plt.Figure()\n",
    "plt.imshow(renormalized_a)\n",
    "plt.show()"
   ]
  },
  {
   "cell_type": "code",
   "execution_count": null,
   "id": "468ef96a",
   "metadata": {},
   "outputs": [],
   "source": []
  }
 ],
 "metadata": {
  "kernelspec": {
   "display_name": "aviva",
   "language": "python",
   "name": "aviva"
  },
  "language_info": {
   "codemirror_mode": {
    "name": "ipython",
    "version": 3
   },
   "file_extension": ".py",
   "mimetype": "text/x-python",
   "name": "python",
   "nbconvert_exporter": "python",
   "pygments_lexer": "ipython3",
   "version": "3.10.6"
  }
 },
 "nbformat": 4,
 "nbformat_minor": 5
}
